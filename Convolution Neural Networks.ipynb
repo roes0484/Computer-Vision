{
 "cells": [
  {
   "cell_type": "markdown",
   "metadata": {},
   "source": [
    "# Executive Summary\n",
    "\n",
    "A Convolutional Neural Network was developed to predict if images were from two types of classes (Cat or Dog). This predictive model used ten thousand images from the two respective categories for training and testing.\n",
    "\n",
    "## Model Performance\n",
    "\n",
    "The accuracy in the model for the training set was calculated at 98.9% and 82.1% for the testing set."
   ]
  },
  {
   "cell_type": "code",
   "execution_count": 17,
   "metadata": {},
   "outputs": [],
   "source": [
    "#Importing the Keras libraries and packages. \n",
    "#Keras will be using TesorFlow as a backend.\n",
    "from keras.models import Sequential\n",
    "from keras.layers import Convolution2D\n",
    "from keras.layers import MaxPooling2D\n",
    "from keras.layers import Flatten\n",
    "from keras.layers import Dense\n",
    "from keras.preprocessing.image import ImageDataGenerator"
   ]
  },
  {
   "cell_type": "code",
   "execution_count": 18,
   "metadata": {},
   "outputs": [],
   "source": [
    "#Initializing the CNN\n",
    "classifier=Sequential()"
   ]
  },
  {
   "cell_type": "code",
   "execution_count": 19,
   "metadata": {},
   "outputs": [],
   "source": [
    "#Convolutional Layer is being developed\n",
    "#Specifying conditions for Feature Detectors to create Feature Maps \n",
    "classifier.add(Convolution2D(filters=32,kernel_size=(3,3),input_shape=(64,64,3),activation='relu'))"
   ]
  },
  {
   "cell_type": "code",
   "execution_count": 20,
   "metadata": {},
   "outputs": [],
   "source": [
    "#Pooling Layer is being developed\n",
    "#This layer will reduce the size of the feature map by converting it in a pooled feature map\n",
    "classifier.add(MaxPooling2D(pool_size=(2,2)))"
   ]
  },
  {
   "cell_type": "code",
   "execution_count": 21,
   "metadata": {},
   "outputs": [],
   "source": [
    "#Convolutional Layer is being developed from the Pooling Layer\n",
    "#Specifying conditions for Feature Detectors to create Feature Maps \n",
    "classifier.add(Convolution2D(filters=32,kernel_size=(3,3),activation='relu'))"
   ]
  },
  {
   "cell_type": "code",
   "execution_count": 22,
   "metadata": {},
   "outputs": [],
   "source": [
    "#Pooling Layer is being developed\n",
    "#This layer will reduce the size of the feature map by converting it in a pooled feature map\n",
    "classifier.add(MaxPooling2D(pool_size=(2,2)))"
   ]
  },
  {
   "cell_type": "code",
   "execution_count": 23,
   "metadata": {},
   "outputs": [],
   "source": [
    "#Flattening is being developed\n",
    "#This task will take the pooled feature maps and puts them in one single vector. \n",
    "#This single vector will become the Input Layer in the ANN\n",
    "classifier.add(Flatten())"
   ]
  },
  {
   "cell_type": "code",
   "execution_count": 24,
   "metadata": {},
   "outputs": [],
   "source": [
    "#The Artificial Neural Network portion of the model\n",
    "#The Hidden and Output Layers are being developed\n",
    "classifier.add(Dense(units=128,activation='relu'))\n",
    "classifier.add(Dense(units=128,activation='relu'))\n",
    "classifier.add(Dense(units=1,activation='sigmoid'))"
   ]
  },
  {
   "cell_type": "code",
   "execution_count": 25,
   "metadata": {},
   "outputs": [],
   "source": [
    "#Compiling the CNN\n",
    "#The descent and loss conditions will be added. \n",
    "#In this case it will be Stochastic Gradient descent and Logarithmic Loss.\n",
    "classifier.compile(optimizer='adam',loss='binary_crossentropy',metrics=['accuracy'])"
   ]
  },
  {
   "cell_type": "code",
   "execution_count": 26,
   "metadata": {},
   "outputs": [],
   "source": [
    "#Image augmentation to prevent overfitting\n",
    "train_datagen = ImageDataGenerator(\n",
    "        rescale=1./255,\n",
    "        shear_range=0.2,\n",
    "        zoom_range=0.2,\n",
    "        horizontal_flip=True)"
   ]
  },
  {
   "cell_type": "code",
   "execution_count": 27,
   "metadata": {},
   "outputs": [],
   "source": [
    "test_datagen = ImageDataGenerator(rescale=1./255)"
   ]
  },
  {
   "cell_type": "code",
   "execution_count": 28,
   "metadata": {},
   "outputs": [
    {
     "name": "stdout",
     "output_type": "stream",
     "text": [
      "Found 8000 images belonging to 2 classes.\n"
     ]
    }
   ],
   "source": [
    "#These sets will create the training set and test set\n",
    "train_set = train_datagen.flow_from_directory('dataset/training_set',\n",
    "                                                target_size=(64, 64),\n",
    "                                                batch_size=32,\n",
    "                                                class_mode='binary')"
   ]
  },
  {
   "cell_type": "code",
   "execution_count": 29,
   "metadata": {},
   "outputs": [
    {
     "name": "stdout",
     "output_type": "stream",
     "text": [
      "Found 2000 images belonging to 2 classes.\n"
     ]
    }
   ],
   "source": [
    "test_set = test_datagen.flow_from_directory('dataset/test_set',\n",
    "                                            target_size=(64, 64),\n",
    "                                            batch_size=32,\n",
    "                                            class_mode='binary')"
   ]
  },
  {
   "cell_type": "code",
   "execution_count": 30,
   "metadata": {},
   "outputs": [
    {
     "name": "stdout",
     "output_type": "stream",
     "text": [
      "Epoch 1/10\n",
      "8000/8000 [==============================] - 4570s 571ms/step - loss: 0.3773 - acc: 0.8222 - val_loss: 0.4270 - val_acc: 0.8336\n",
      "Epoch 2/10\n",
      "8000/8000 [==============================] - 4640s 580ms/step - loss: 0.1751 - acc: 0.9283 - val_loss: 0.6202 - val_acc: 0.8144\n",
      "Epoch 3/10\n",
      "8000/8000 [==============================] - 4718s 590ms/step - loss: 0.1044 - acc: 0.9599 - val_loss: 0.6497 - val_acc: 0.8131\n",
      "Epoch 4/10\n",
      "8000/8000 [==============================] - 5412s 676ms/step - loss: 0.0743 - acc: 0.9723 - val_loss: 0.8383 - val_acc: 0.8145\n",
      "Epoch 5/10\n",
      "8000/8000 [==============================] - 5345s 668ms/step - loss: 0.0594 - acc: 0.9785 - val_loss: 0.8483 - val_acc: 0.8064\n",
      "Epoch 6/10\n",
      "8000/8000 [==============================] - 5076s 634ms/step - loss: 0.0483 - acc: 0.9832 - val_loss: 0.8793 - val_acc: 0.8261\n",
      "Epoch 7/10\n",
      "8000/8000 [==============================] - 4207s 526ms/step - loss: 0.0424 - acc: 0.9851 - val_loss: 0.9577 - val_acc: 0.8164\n",
      "Epoch 8/10\n",
      "8000/8000 [==============================] - 4209s 526ms/step - loss: 0.0370 - acc: 0.9871 - val_loss: 1.0001 - val_acc: 0.8106\n",
      "Epoch 9/10\n",
      "8000/8000 [==============================] - 4246s 531ms/step - loss: 0.0335 - acc: 0.9883 - val_loss: 0.8670 - val_acc: 0.8244\n",
      "Epoch 10/10\n",
      "8000/8000 [==============================] - 4279s 535ms/step - loss: 0.0300 - acc: 0.9894 - val_loss: 0.9154 - val_acc: 0.8207\n"
     ]
    },
    {
     "data": {
      "text/plain": [
       "<keras.callbacks.History at 0xea5eef0>"
      ]
     },
     "execution_count": 30,
     "metadata": {},
     "output_type": "execute_result"
    }
   ],
   "source": [
    "#This generator will fit the CNN on the training set and evaluate its performance in the test set\n",
    "#Without doing a optimization analysis of the code the accuracy from the training set is 0.9894 and test set 0.8207\n",
    "classifier.fit_generator(train_set,\n",
    "                            steps_per_epoch=8000,\n",
    "                            epochs=10,\n",
    "                            validation_data=test_set,\n",
    "                            validation_steps=2000)"
   ]
  },
  {
   "cell_type": "code",
   "execution_count": 31,
   "metadata": {},
   "outputs": [],
   "source": [
    "#Single prediction using the CNN model\n",
    "import numpy as np\n",
    "from keras.preprocessing import image"
   ]
  },
  {
   "cell_type": "code",
   "execution_count": 32,
   "metadata": {},
   "outputs": [
    {
     "data": {
      "text/plain": [
       "{'cats': 0, 'dogs': 1}"
      ]
     },
     "execution_count": 32,
     "metadata": {},
     "output_type": "execute_result"
    }
   ],
   "source": [
    "train_set.class_indices"
   ]
  },
  {
   "cell_type": "code",
   "execution_count": 76,
   "metadata": {},
   "outputs": [],
   "source": [
    "#Loading the single image to the model\n",
    "test_image=image.load_img('dataset/single_prediction/cat_and_dog.jpg',target_size=(64,64))"
   ]
  },
  {
   "cell_type": "code",
   "execution_count": 77,
   "metadata": {},
   "outputs": [],
   "source": [
    "#Converting the single image into a 3D array\n",
    "test_image=image.img_to_array(test_image)"
   ]
  },
  {
   "cell_type": "code",
   "execution_count": 78,
   "metadata": {},
   "outputs": [],
   "source": [
    "#Result of single prediction\n",
    "test_image=np.expand_dims(test_image,axis=0)\n",
    "result=classifier.predict(test_image)\n",
    "if result[0][0]==1:\n",
    "    prediction='dog'\n",
    "else:\n",
    "    prediction='cat'\n"
   ]
  },
  {
   "cell_type": "code",
   "execution_count": 79,
   "metadata": {},
   "outputs": [
    {
     "data": {
      "text/plain": [
       "'cat'"
      ]
     },
     "execution_count": 79,
     "metadata": {},
     "output_type": "execute_result"
    }
   ],
   "source": [
    "prediction"
   ]
  },
  {
   "cell_type": "code",
   "execution_count": null,
   "metadata": {},
   "outputs": [],
   "source": []
  },
  {
   "cell_type": "code",
   "execution_count": null,
   "metadata": {},
   "outputs": [],
   "source": []
  },
  {
   "cell_type": "code",
   "execution_count": null,
   "metadata": {},
   "outputs": [],
   "source": []
  }
 ],
 "metadata": {
  "kernelspec": {
   "display_name": "Python 3",
   "language": "python",
   "name": "python3"
  },
  "language_info": {
   "codemirror_mode": {
    "name": "ipython",
    "version": 3
   },
   "file_extension": ".py",
   "mimetype": "text/x-python",
   "name": "python",
   "nbconvert_exporter": "python",
   "pygments_lexer": "ipython3",
   "version": "3.6.3"
  }
 },
 "nbformat": 4,
 "nbformat_minor": 2
}
